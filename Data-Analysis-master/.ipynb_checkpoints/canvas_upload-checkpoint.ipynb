{
 "cells": [
  {
   "cell_type": "code",
   "execution_count": 16,
   "metadata": {},
   "outputs": [],
   "source": [
    "import selenium\n",
    "from selenium import webdriver\n",
    "import os"
   ]
  },
  {
   "cell_type": "code",
   "execution_count": 20,
   "metadata": {},
   "outputs": [],
   "source": [
    "file_dict = {}\n",
    "class_dir = 'C:/Users/Will Koehrsen/Desktop/class_submissions'\n",
    "dir_list = list(os.listdir(class_dir))\n",
    "for directory in dir_list:\n",
    "    file_dict[directory] = list(os.listdir(os.path.join(class_dir, directory)))"
   ]
  },
  {
   "cell_type": "code",
   "execution_count": 21,
   "metadata": {},
   "outputs": [
    {
     "data": {
      "text/plain": [
       "{'DSCI451': ['DSCI452_SemProj_Plan.txt'],\n",
       " 'DSCI453': [],\n",
       " 'EECS491': [],\n",
       " 'EECS531': []}"
      ]
     },
     "execution_count": 21,
     "metadata": {},
     "output_type": "execute_result"
    }
   ],
   "source": [
    "file_dict"
   ]
  },
  {
   "cell_type": "code",
   "execution_count": 2,
   "metadata": {},
   "outputs": [],
   "source": [
    "driver = webdriver.Chrome()"
   ]
  },
  {
   "cell_type": "code",
   "execution_count": 6,
   "metadata": {},
   "outputs": [],
   "source": [
    "with open('C:/Users/Will Koehrsen/Desktop/cp.txt', 'r') as f:\n",
    "    cp = f.read()\n",
    "    \n",
    "driver.get('https://canvas.case.edu')"
   ]
  },
  {
   "cell_type": "code",
   "execution_count": 8,
   "metadata": {},
   "outputs": [],
   "source": [
    "id_box = driver.find_element_by_name('username')\n",
    "pass_box = driver.find_element_by_name('password')\n",
    "login_button = driver.find_element_by_name('submit')"
   ]
  },
  {
   "cell_type": "code",
   "execution_count": 9,
   "metadata": {},
   "outputs": [],
   "source": [
    "id_box.send_keys('wjk68')\n",
    "pass_box.send_keys(cp)\n",
    "login_button.click()"
   ]
  },
  {
   "cell_type": "code",
   "execution_count": 11,
   "metadata": {},
   "outputs": [],
   "source": [
    "courses_button = driver.find_element_by_id('global_nav_courses_link')\n",
    "courses_button.click()"
   ]
  },
  {
   "cell_type": "code",
   "execution_count": 12,
   "metadata": {},
   "outputs": [],
   "source": [
    "file = '03/09_Weekly_Update.Rmd'\n"
   ]
  },
  {
   "cell_type": "code",
   "execution_count": 15,
   "metadata": {},
   "outputs": [
    {
     "data": {
      "text/plain": [
       "'03/09 Weekly Update'"
      ]
     },
     "execution_count": 15,
     "metadata": {},
     "output_type": "execute_result"
    }
   ],
   "source": [
    "file.replace('_', ' ').split('.')[0]"
   ]
  },
  {
   "cell_type": "code",
   "execution_count": null,
   "metadata": {},
   "outputs": [],
   "source": [
    "for folder, files in file_dict.items():\n",
    "    if folder == 'DSCI451':\n",
    "        class_select = driver.find_element_by_link_text('Applied Data Science Research')\n",
    "    elif folder == 'DCSI453':\n",
    "        class_select = driver.find_element_by_link_text('Data Science: Statistical Learning, Modeling and Prediction')\n",
    "    elif folder == 'EECS491':\n",
    "        class_select = driver.find_element_by_link_text('Artificial Intelligence: Probabilistic Graphical Models')\n",
    "    elif folder == 'EECS531':\n",
    "        class_select = driver.find_element_by_link_text('Computer Vision')\n",
    "    class_select.click()\n",
    "    assignment_button = driver.find_element_by_link_text('Assignments')\n",
    "    assignment_button.click()\n",
    "    for file in files:\n",
    "        find_file = file.replace('_', ' ').split('.')[0]\n",
    "        specific_assigment = driver.find_element_by_link_text(find_file)\n",
    "        specific_assigment.click()\n",
    "        submit_assignment_button = driver.find_element_by_link_text('Submit Assignment')\n",
    "        submit_assignment_button.click()\n",
    "        choose_file = driver.find_element_by_name('attachments[0][uploaded_data]')\n",
    "        choose_file.send_keys('C:/Users/Will Koehrsen/Desktop/class_submissions/%s/%s' % (folder, file)).accept()\n",
    "        final_submission_button = driver.find_element_by_link_text('Submit Assignment')"
   ]
  }
 ],
 "metadata": {
  "kernelspec": {
   "display_name": "Python 3",
   "language": "python",
   "name": "python3"
  },
  "language_info": {
   "codemirror_mode": {
    "name": "ipython",
    "version": 3
   },
   "file_extension": ".py",
   "mimetype": "text/x-python",
   "name": "python",
   "nbconvert_exporter": "python",
   "pygments_lexer": "ipython3",
   "version": "3.6.4"
  }
 },
 "nbformat": 4,
 "nbformat_minor": 2
}
