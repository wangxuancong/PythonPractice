{
 "cells": [
  {
   "cell_type": "code",
   "execution_count": 1,
   "metadata": {},
   "outputs": [],
   "source": [
    "import pandas as pd \n",
    "import os \n",
    "from pandas import Series as srs"
   ]
  },
  {
   "cell_type": "code",
   "execution_count": 18,
   "metadata": {},
   "outputs": [],
   "source": [
    "path = os.getcwd()+'/input_data/top100_data/'\n",
    "f_list = [path+i for i in  os.listdir(path)]"
   ]
  },
  {
   "cell_type": "code",
   "execution_count": 19,
   "metadata": {},
   "outputs": [
    {
     "data": {
      "text/plain": [
       "['/home/yif/Pywork/Matrix/Goldbach/Arim/input_data/top100_data/rank2_ETH.csv',\n",
       " '/home/yif/Pywork/Matrix/Goldbach/Arim/input_data/top100_data/rank1_BTC.csv',\n",
       " '/home/yif/Pywork/Matrix/Goldbach/Arim/input_data/top100_data/rank3_XRP.csv',\n",
       " '/home/yif/Pywork/Matrix/Goldbach/Arim/input_data/top100_data/rank8_USDT.csv',\n",
       " '/home/yif/Pywork/Matrix/Goldbach/Arim/input_data/top100_data/rank9_ADA.csv',\n",
       " '/home/yif/Pywork/Matrix/Goldbach/Arim/input_data/top100_data/rank6_XLM.csv',\n",
       " '/home/yif/Pywork/Matrix/Goldbach/Arim/input_data/top100_data/rank10_XMR.csv',\n",
       " '/home/yif/Pywork/Matrix/Goldbach/Arim/input_data/top100_data/rank7_LTC.csv',\n",
       " '/home/yif/Pywork/Matrix/Goldbach/Arim/input_data/top100_data/rank5_EOS.csv',\n",
       " '/home/yif/Pywork/Matrix/Goldbach/Arim/input_data/top100_data/rank4_BCH.csv']"
      ]
     },
     "execution_count": 19,
     "metadata": {},
     "output_type": "execute_result"
    }
   ],
   "source": [
    "f_list"
   ]
  },
  {
   "cell_type": "code",
   "execution_count": 28,
   "metadata": {},
   "outputs": [],
   "source": [
    "fi = f_list[0]\n",
    "a = pd.read_csv(fi)['Open*'].mean()\n",
    "b = pd.read_csv(fi)['Open*'].std()\n",
    "file = pd.read_csv(fi)"
   ]
  },
  {
   "cell_type": "code",
   "execution_count": 43,
   "metadata": {},
   "outputs": [],
   "source": [
    "li['open1'] = pd.read_csv(fi)['Open*'].astype('float64').diff(1)   # 差分                                                                                   "
   ]
  },
  {
   "cell_type": "code",
   "execution_count": 34,
   "metadata": {},
   "outputs": [],
   "source": [
    "ll = [i for i in li]"
   ]
  },
  {
   "cell_type": "code",
   "execution_count": 37,
   "metadata": {},
   "outputs": [],
   "source": []
  }
 ],
 "metadata": {
  "kernelspec": {
   "display_name": "Python 3",
   "language": "python",
   "name": "python3"
  },
  "language_info": {
   "codemirror_mode": {
    "name": "ipython",
    "version": 3
   },
   "file_extension": ".py",
   "mimetype": "text/x-python",
   "name": "python",
   "nbconvert_exporter": "python",
   "pygments_lexer": "ipython3",
   "version": "3.6.4"
  }
 },
 "nbformat": 4,
 "nbformat_minor": 2
}
