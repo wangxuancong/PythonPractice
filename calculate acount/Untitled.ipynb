{
 "cells": [
  {
   "cell_type": "code",
   "execution_count": 1,
   "metadata": {},
   "outputs": [],
   "source": [
    "import pandas as pd\n",
    "import time\n",
    "\n",
    "file ='from12.02.csv'\n",
    "\n",
    "data = pd.read_csv(file)\n",
    " "
   ]
  },
  {
   "cell_type": "code",
   "execution_count": 3,
   "metadata": {},
   "outputs": [],
   "source": [
    "\n",
    "data['Date'] = data['UnixTimestamp'].apply(lambda x: time.strftime('%Y-%m-%d %H:%M:%S', time.gmtime(x)))\n",
    "\n",
    "data['Day'] = data['UnixTimestamp'].apply(lambda x: time.strftime('%Y-%m-%d', time.gmtime(x)))\n",
    "\n",
    "data['Day'] = data['Day'] = pd.to_datetime(data['Day'])"
   ]
  },
  {
   "cell_type": "code",
   "execution_count": 4,
   "metadata": {},
   "outputs": [],
   "source": [
    "data['Week']= data['Day'].apply(lambda x:x.weekofyear)"
   ]
  },
  {
   "cell_type": "code",
   "execution_count": 5,
   "metadata": {},
   "outputs": [
    {
     "data": {
      "text/html": [
       "<div>\n",
       "<style scoped>\n",
       "    .dataframe tbody tr th:only-of-type {\n",
       "        vertical-align: middle;\n",
       "    }\n",
       "\n",
       "    .dataframe tbody tr th {\n",
       "        vertical-align: top;\n",
       "    }\n",
       "\n",
       "    .dataframe thead th {\n",
       "        text-align: right;\n",
       "    }\n",
       "</style>\n",
       "<table border=\"1\" class=\"dataframe\">\n",
       "  <thead>\n",
       "    <tr style=\"text-align: right;\">\n",
       "      <th></th>\n",
       "      <th>Txhash</th>\n",
       "      <th>Blockno</th>\n",
       "      <th>UnixTimestamp</th>\n",
       "      <th>DateTime</th>\n",
       "      <th>From</th>\n",
       "      <th>To</th>\n",
       "      <th>Quantity</th>\n",
       "      <th>Date</th>\n",
       "      <th>Day</th>\n",
       "      <th>Week</th>\n",
       "    </tr>\n",
       "  </thead>\n",
       "  <tbody>\n",
       "    <tr>\n",
       "      <th>0</th>\n",
       "      <td>0xfd5f1b61d998025743510a1e55f140ab2b70bcb1115c...</td>\n",
       "      <td>6809317</td>\n",
       "      <td>1543708856</td>\n",
       "      <td>12/2/2018 12:00:56 AM</td>\n",
       "      <td>0x2b5634c42055806a59e9107ed44d43c426e58258</td>\n",
       "      <td>0xe93eb16525ec76d630fe7aea4ca3aca74846d2c4</td>\n",
       "      <td>18479.81820</td>\n",
       "      <td>2018-12-02 00:00:56</td>\n",
       "      <td>2018-12-02</td>\n",
       "      <td>48</td>\n",
       "    </tr>\n",
       "    <tr>\n",
       "      <th>1</th>\n",
       "      <td>0x0d1e167e50a49f3a908c2abe9cdf56981da0810cd341...</td>\n",
       "      <td>6809339</td>\n",
       "      <td>1543709210</td>\n",
       "      <td>12/2/2018 12:06:50 AM</td>\n",
       "      <td>0x2b5634c42055806a59e9107ed44d43c426e58258</td>\n",
       "      <td>0xad5ba19477afe9227c917d72cf9ece420f0732ad</td>\n",
       "      <td>11036.90820</td>\n",
       "      <td>2018-12-02 00:06:50</td>\n",
       "      <td>2018-12-02</td>\n",
       "      <td>48</td>\n",
       "    </tr>\n",
       "    <tr>\n",
       "      <th>2</th>\n",
       "      <td>0xd148cd5814861b2e461bad3be5635a492a94a155c421...</td>\n",
       "      <td>6809343</td>\n",
       "      <td>1543709250</td>\n",
       "      <td>12/2/2018 12:07:30 AM</td>\n",
       "      <td>0xa658979cbbf10627d9e85f4acf3c59f707452505</td>\n",
       "      <td>0xfbef6580ec22d0cd305cd1dad6f24653faad2e5f</td>\n",
       "      <td>47051.93788</td>\n",
       "      <td>2018-12-02 00:07:30</td>\n",
       "      <td>2018-12-02</td>\n",
       "      <td>48</td>\n",
       "    </tr>\n",
       "    <tr>\n",
       "      <th>3</th>\n",
       "      <td>0xaac90302451adec7aa9e15d093deb7068ea65eb94355...</td>\n",
       "      <td>6809383</td>\n",
       "      <td>1543709897</td>\n",
       "      <td>12/2/2018 12:18:17 AM</td>\n",
       "      <td>0xfbef6580ec22d0cd305cd1dad6f24653faad2e5f</td>\n",
       "      <td>0xfa4b5be3f2f84f56703c42eb22142744e95a2c58</td>\n",
       "      <td>47051.93788</td>\n",
       "      <td>2018-12-02 00:18:17</td>\n",
       "      <td>2018-12-02</td>\n",
       "      <td>48</td>\n",
       "    </tr>\n",
       "    <tr>\n",
       "      <th>4</th>\n",
       "      <td>0x7a8d0320366b33a05e1a4a5d31d462267437c096dd74...</td>\n",
       "      <td>6809410</td>\n",
       "      <td>1543710281</td>\n",
       "      <td>12/2/2018 12:24:41 AM</td>\n",
       "      <td>0x2b5634c42055806a59e9107ed44d43c426e58258</td>\n",
       "      <td>0x13e46617783e646fdafc4f5d373d571932ad0a61</td>\n",
       "      <td>199.00000</td>\n",
       "      <td>2018-12-02 00:24:41</td>\n",
       "      <td>2018-12-02</td>\n",
       "      <td>48</td>\n",
       "    </tr>\n",
       "  </tbody>\n",
       "</table>\n",
       "</div>"
      ],
      "text/plain": [
       "                                              Txhash  Blockno  UnixTimestamp  \\\n",
       "0  0xfd5f1b61d998025743510a1e55f140ab2b70bcb1115c...  6809317     1543708856   \n",
       "1  0x0d1e167e50a49f3a908c2abe9cdf56981da0810cd341...  6809339     1543709210   \n",
       "2  0xd148cd5814861b2e461bad3be5635a492a94a155c421...  6809343     1543709250   \n",
       "3  0xaac90302451adec7aa9e15d093deb7068ea65eb94355...  6809383     1543709897   \n",
       "4  0x7a8d0320366b33a05e1a4a5d31d462267437c096dd74...  6809410     1543710281   \n",
       "\n",
       "                DateTime                                        From  \\\n",
       "0  12/2/2018 12:00:56 AM  0x2b5634c42055806a59e9107ed44d43c426e58258   \n",
       "1  12/2/2018 12:06:50 AM  0x2b5634c42055806a59e9107ed44d43c426e58258   \n",
       "2  12/2/2018 12:07:30 AM  0xa658979cbbf10627d9e85f4acf3c59f707452505   \n",
       "3  12/2/2018 12:18:17 AM  0xfbef6580ec22d0cd305cd1dad6f24653faad2e5f   \n",
       "4  12/2/2018 12:24:41 AM  0x2b5634c42055806a59e9107ed44d43c426e58258   \n",
       "\n",
       "                                           To     Quantity  \\\n",
       "0  0xe93eb16525ec76d630fe7aea4ca3aca74846d2c4  18479.81820   \n",
       "1  0xad5ba19477afe9227c917d72cf9ece420f0732ad  11036.90820   \n",
       "2  0xfbef6580ec22d0cd305cd1dad6f24653faad2e5f  47051.93788   \n",
       "3  0xfa4b5be3f2f84f56703c42eb22142744e95a2c58  47051.93788   \n",
       "4  0x13e46617783e646fdafc4f5d373d571932ad0a61    199.00000   \n",
       "\n",
       "                  Date        Day  Week  \n",
       "0  2018-12-02 00:00:56 2018-12-02    48  \n",
       "1  2018-12-02 00:06:50 2018-12-02    48  \n",
       "2  2018-12-02 00:07:30 2018-12-02    48  \n",
       "3  2018-12-02 00:18:17 2018-12-02    48  \n",
       "4  2018-12-02 00:24:41 2018-12-02    48  "
      ]
     },
     "execution_count": 5,
     "metadata": {},
     "output_type": "execute_result"
    }
   ],
   "source": [
    "data.head()"
   ]
  },
  {
   "cell_type": "code",
   "execution_count": 28,
   "metadata": {},
   "outputs": [
    {
     "data": {
      "text/plain": [
       "numpy.float64"
      ]
     },
     "execution_count": 28,
     "metadata": {},
     "output_type": "execute_result"
    }
   ],
   "source": [
    "type(data['Quantity'][0])"
   ]
  },
  {
   "cell_type": "code",
   "execution_count": 7,
   "metadata": {},
   "outputs": [
    {
     "data": {
      "text/plain": [
       "(2232, 10)"
      ]
     },
     "execution_count": 7,
     "metadata": {},
     "output_type": "execute_result"
    }
   ],
   "source": [
    "data.shape"
   ]
  },
  {
   "cell_type": "code",
   "execution_count": 8,
   "metadata": {},
   "outputs": [],
   "source": [
    "start_time = pd.to_datetime('2018-12-2')\n",
    "end_time = pd.to_datetime('2018-12-09')\n",
    "\n",
    "interval = data.loc[(data['Day'] >= start_time) & (data['Day'] <= end_time)]"
   ]
  },
  {
   "cell_type": "code",
   "execution_count": 9,
   "metadata": {},
   "outputs": [],
   "source": [
    "amount_all = interval.shape[0]\n",
    "\n",
    "quantity_all = interval['Quantity'].sum()"
   ]
  },
  {
   "cell_type": "code",
   "execution_count": 10,
   "metadata": {},
   "outputs": [
    {
     "data": {
      "text/plain": [
       "37459628.68028265"
      ]
     },
     "execution_count": 10,
     "metadata": {},
     "output_type": "execute_result"
    }
   ],
   "source": [
    "quantity_all"
   ]
  },
  {
   "cell_type": "code",
   "execution_count": 21,
   "metadata": {},
   "outputs": [
    {
     "ename": "ValueError",
     "evalue": "The truth value of a Series is ambiguous. Use a.empty, a.bool(), a.item(), a.any() or a.all().",
     "output_type": "error",
     "traceback": [
      "\u001b[0;31m---------------------------------------------------------------------------\u001b[0m",
      "\u001b[0;31mValueError\u001b[0m                                Traceback (most recent call last)",
      "\u001b[0;32m<ipython-input-21-c412aa7ecddc>\u001b[0m in \u001b[0;36m<module>\u001b[0;34m()\u001b[0m\n\u001b[0;32m----> 1\u001b[0;31m \u001b[0minterval\u001b[0m\u001b[0;34m.\u001b[0m\u001b[0mloc\u001b[0m\u001b[0;34m[\u001b[0m\u001b[0;34m(\u001b[0m\u001b[0minterval\u001b[0m\u001b[0;34m[\u001b[0m\u001b[0;34m'From'\u001b[0m\u001b[0;34m]\u001b[0m \u001b[0;34m==\u001b[0m \u001b[0;34m'0x5c985e89dde482efe97ea9f1950ad149eb73829b'\u001b[0m\u001b[0;34m)\u001b[0m \u001b[0;32mor\u001b[0m \u001b[0;34m(\u001b[0m\u001b[0minterval\u001b[0m\u001b[0;34m[\u001b[0m\u001b[0;34m'To'\u001b[0m\u001b[0;34m]\u001b[0m \u001b[0;34m==\u001b[0m \u001b[0;34m'0x5c985e89dde482efe97ea9f1950ad149eb73829b'\u001b[0m\u001b[0;34m)\u001b[0m\u001b[0;34m]\u001b[0m\u001b[0;34m\u001b[0m\u001b[0m\n\u001b[0m",
      "\u001b[0;32m~/anaconda3/lib/python3.6/site-packages/pandas/core/generic.py\u001b[0m in \u001b[0;36m__nonzero__\u001b[0;34m(self)\u001b[0m\n\u001b[1;32m   1571\u001b[0m         raise ValueError(\"The truth value of a {0} is ambiguous. \"\n\u001b[1;32m   1572\u001b[0m                          \u001b[0;34m\"Use a.empty, a.bool(), a.item(), a.any() or a.all().\"\u001b[0m\u001b[0;34m\u001b[0m\u001b[0m\n\u001b[0;32m-> 1573\u001b[0;31m                          .format(self.__class__.__name__))\n\u001b[0m\u001b[1;32m   1574\u001b[0m \u001b[0;34m\u001b[0m\u001b[0m\n\u001b[1;32m   1575\u001b[0m     \u001b[0m__bool__\u001b[0m \u001b[0;34m=\u001b[0m \u001b[0m__nonzero__\u001b[0m\u001b[0;34m\u001b[0m\u001b[0m\n",
      "\u001b[0;31mValueError\u001b[0m: The truth value of a Series is ambiguous. Use a.empty, a.bool(), a.item(), a.any() or a.all()."
     ]
    }
   ],
   "source": [
    "interval.loc[(interval['From'] == '0x5c985e89dde482efe97ea9f1950ad149eb73829b') or (interval['To'] == '0x5c985e89dde482efe97ea9f1950ad149eb73829b')]"
   ]
  },
  {
   "cell_type": "code",
   "execution_count": 13,
   "metadata": {},
   "outputs": [],
   "source": [
    "exchange = {'Gate':['0x1c4b70a3968436b9a0a9cf5205c787eb81bb558c',\n",
    "                        '0x0d0707963952f2fba59dd06f2b425ace40b492fe'],\n",
    "                'Huobi':['0xfdb16996831753d5331ff813c29a93c76834a0ad',\n",
    "                         '0xe93381fb4c4f14bda253907b18fad305d799241a',\n",
    "                         '0x1062a747393198f70f71ec65a582423dba7e5ab3',\n",
    "                         '0xeee28d484628d41a82d01e21d12e2e78d69920da',\n",
    "                         '0xadb2b42f6bd96f5c65920b9ac88619dce4166f94',\n",
    "                         '0x5c985e89dde482efe97ea9f1950ad149eb73829b',\n",
    "                         '0xab5c66752a9e8167967685f1450532fb96d5d24f',\n",
    "                         '0x6748f50f686bfbca6fe8ad62b22228b87f31ff2b',\n",
    "                         '0xfa4b5be3f2f84f56703c42eb22142744e95a2c58',\n",
    "                         '0x46705dfff24256421a05d056c29e81bdc09723b8'],\n",
    "                'IDEX':['0x2a0c0dbecc7e4d658f48e01e3fa353f44050c208 '],\n",
    "                'Kucoin':['0x2b5634c42055806a59e9107ed44d43c426e58258']\n",
    "                }"
   ]
  },
  {
   "cell_type": "code",
   "execution_count": 20,
   "metadata": {},
   "outputs": [
    {
     "name": "stdout",
     "output_type": "stream",
     "text": [
      "Gate\n",
      "['0x1c4b70a3968436b9a0a9cf5205c787eb81bb558c', '0x0d0707963952f2fba59dd06f2b425ace40b492fe']\n",
      "Huobi\n",
      "['0xfdb16996831753d5331ff813c29a93c76834a0ad', '0xe93381fb4c4f14bda253907b18fad305d799241a', '0x1062a747393198f70f71ec65a582423dba7e5ab3', '0xeee28d484628d41a82d01e21d12e2e78d69920da', '0xadb2b42f6bd96f5c65920b9ac88619dce4166f94', '0x5c985e89dde482efe97ea9f1950ad149eb73829b', '0xab5c66752a9e8167967685f1450532fb96d5d24f', '0x6748f50f686bfbca6fe8ad62b22228b87f31ff2b', '0xfa4b5be3f2f84f56703c42eb22142744e95a2c58', '0x46705dfff24256421a05d056c29e81bdc09723b8']\n",
      "IDEX\n",
      "['0x2a0c0dbecc7e4d658f48e01e3fa353f44050c208 ']\n",
      "Kucoin\n",
      "['0x2b5634c42055806a59e9107ed44d43c426e58258']\n"
     ]
    }
   ],
   "source": [
    "for i,j in exchange.items():\n",
    "    print(i)\n",
    "    print(j)"
   ]
  },
  {
   "cell_type": "code",
   "execution_count": 39,
   "metadata": {},
   "outputs": [],
   "source": [
    "ex = {'a':[2,4],'b':[1,3]}"
   ]
  },
  {
   "cell_type": "code",
   "execution_count": 43,
   "metadata": {},
   "outputs": [
    {
     "data": {
      "text/html": [
       "<div>\n",
       "<style scoped>\n",
       "    .dataframe tbody tr th:only-of-type {\n",
       "        vertical-align: middle;\n",
       "    }\n",
       "\n",
       "    .dataframe tbody tr th {\n",
       "        vertical-align: top;\n",
       "    }\n",
       "\n",
       "    .dataframe thead th {\n",
       "        text-align: right;\n",
       "    }\n",
       "</style>\n",
       "<table border=\"1\" class=\"dataframe\">\n",
       "  <thead>\n",
       "    <tr style=\"text-align: right;\">\n",
       "      <th></th>\n",
       "      <th>a</th>\n",
       "      <th>b</th>\n",
       "    </tr>\n",
       "  </thead>\n",
       "  <tbody>\n",
       "    <tr>\n",
       "      <th>aa</th>\n",
       "      <td>2</td>\n",
       "      <td>1</td>\n",
       "    </tr>\n",
       "    <tr>\n",
       "      <th>bb</th>\n",
       "      <td>4</td>\n",
       "      <td>3</td>\n",
       "    </tr>\n",
       "  </tbody>\n",
       "</table>\n",
       "</div>"
      ],
      "text/plain": [
       "     a  b\n",
       "aa   2  1\n",
       " bb  4  3"
      ]
     },
     "execution_count": 43,
     "metadata": {},
     "output_type": "execute_result"
    }
   ],
   "source": [
    "pd.DataFrame(ex,index=['aa',' bb'])"
   ]
  },
  {
   "cell_type": "code",
   "execution_count": null,
   "metadata": {},
   "outputs": [],
   "source": []
  }
 ],
 "metadata": {
  "kernelspec": {
   "display_name": "Python 3",
   "language": "python",
   "name": "python3"
  },
  "language_info": {
   "codemirror_mode": {
    "name": "ipython",
    "version": 3
   },
   "file_extension": ".py",
   "mimetype": "text/x-python",
   "name": "python",
   "nbconvert_exporter": "python",
   "pygments_lexer": "ipython3",
   "version": "3.6.5"
  }
 },
 "nbformat": 4,
 "nbformat_minor": 2
}
